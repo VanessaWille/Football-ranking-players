{
 "cells": [
  {
   "cell_type": "code",
   "execution_count": 1,
   "metadata": {},
   "outputs": [],
   "source": [
    "import numpy as np\n",
    "\n",
    "class FootballMatchRating:\n",
    "    def __init__(self, team_1, team_2):\n",
    "        self.team_1 = team_1.copy()\n",
    "        self.team_2 = team_2.copy()\n",
    "\n",
    "    def update_k_q_values(self, player):\n",
    "        #if (player['games_played'] < 30 or player['age'] < 18) and player['rating'] < 2300:\n",
    "        if (player['games_played'] < 30) and player['rating'] < 2300:\n",
    "            player['k_value'] = 40\n",
    "        elif player['rating'] < 2400:\n",
    "            player['k_value'] = 20\n",
    "        elif player['games_played'] >= 30 and player['rating'] >= 2400:\n",
    "            player['k_value'] = 10\n",
    "        else:\n",
    "            player['k_value'] = 10  \n",
    "\n",
    "        player['q_value'] = 0.5\n",
    "        return player\n",
    "\n",
    "    def calculate_team_rating(self, team):\n",
    "        total_minutes = team['minutes_played'].sum()\n",
    "        return np.sum(team['rating'] * team['minutes_played']) / total_minutes\n",
    "\n",
    "    def expected_score(self, ra, rb):\n",
    "        return 1 / (1 + 10 ** ((rb - ra) / 400))\n",
    "\n",
    "    def calculate_individual_changes(self, team_1, team_2, w=1, q=0.5):\n",
    "        Rb = self.calculate_team_rating(team_2)\n",
    "\n",
    "        Mmax = 90\n",
    "        for index, player in team_1.iterrows():\n",
    "            Ea = self.expected_score(player['rating'], Rb)\n",
    "            Da = player['goals_for'] - player['goals_against']\n",
    "\n",
    "            Sa = 1 if Da > 0 else 0.5 if Da == 0 else 0\n",
    "\n",
    "            if Da != 0:\n",
    "                Ca = w * (Sa - Ea) * np.cbrt(abs(Da))\n",
    "            else:\n",
    "                Ca = w * (Sa - Ea) * player['minutes_played'] / Mmax\n",
    "\n",
    "            player = self.update_k_q_values(player)\n",
    "            team_1.loc[index, 'k_value'] = player['k_value']\n",
    "            new_rating = player['rating'] + player['k_value'] * ((q * Ca) + ((1 - q) * Ca * (player['minutes_played'] / 90)))\n",
    "            team_1.loc[index, 'rating'] = new_rating\n",
    "            team_1.loc[index, 'games_played'] += 1\n",
    "\n",
    "        return team_1\n",
    "\n",
    "    def update_ratings(self):\n",
    "        self.team_1 = self.calculate_individual_changes(self.team_1, self.team_2)\n",
    "        self.team_2 = self.calculate_individual_changes(self.team_2, self.team_1)\n",
    "        return self.team_1, self.team_2\n"
   ]
  }
 ],
 "metadata": {
  "kernelspec": {
   "display_name": "Python 3",
   "language": "python",
   "name": "python3"
  },
  "language_info": {
   "codemirror_mode": {
    "name": "ipython",
    "version": 3
   },
   "file_extension": ".py",
   "mimetype": "text/x-python",
   "name": "python",
   "nbconvert_exporter": "python",
   "pygments_lexer": "ipython3",
   "version": "3.9.13"
  }
 },
 "nbformat": 4,
 "nbformat_minor": 2
}
