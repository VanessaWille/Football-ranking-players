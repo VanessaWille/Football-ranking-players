{
 "cells": [
  {
   "cell_type": "code",
   "execution_count": 28,
   "metadata": {},
   "outputs": [
    {
     "data": {
      "text/html": [
       "<div>\n",
       "<style scoped>\n",
       "    .dataframe tbody tr th:only-of-type {\n",
       "        vertical-align: middle;\n",
       "    }\n",
       "\n",
       "    .dataframe tbody tr th {\n",
       "        vertical-align: top;\n",
       "    }\n",
       "\n",
       "    .dataframe thead th {\n",
       "        text-align: right;\n",
       "    }\n",
       "</style>\n",
       "<table border=\"1\" class=\"dataframe\">\n",
       "  <thead>\n",
       "    <tr style=\"text-align: right;\">\n",
       "      <th></th>\n",
       "      <th>0</th>\n",
       "      <th>1</th>\n",
       "      <th>2</th>\n",
       "      <th>3</th>\n",
       "      <th>4</th>\n",
       "      <th>5</th>\n",
       "      <th>6</th>\n",
       "      <th>7</th>\n",
       "      <th>8</th>\n",
       "    </tr>\n",
       "  </thead>\n",
       "  <tbody>\n",
       "    <tr>\n",
       "      <th>1</th>\n",
       "      <td>{'Home': {'Squad': ['141698', '137644', '14474...</td>\n",
       "      <td>{'Home': {'Squad': ['141698', '137644', '14474...</td>\n",
       "      <td>{'Home': {'Squad': ['141698', '137644', '14474...</td>\n",
       "      <td>{'Home': {'Squad': ['141698', '137644', '14474...</td>\n",
       "      <td>{'Home': {'Squad': ['141698', '137644', '14474...</td>\n",
       "      <td>{'Home': {'Squad': ['141698', '137644', '14474...</td>\n",
       "      <td>NaN</td>\n",
       "      <td>NaN</td>\n",
       "      <td>NaN</td>\n",
       "    </tr>\n",
       "    <tr>\n",
       "      <th>2</th>\n",
       "      <td>{'Home': {'Squad': ['137990', '172996', '16795...</td>\n",
       "      <td>{'Home': {'Squad': ['137990', '172996', '16795...</td>\n",
       "      <td>{'Home': {'Squad': ['137990', '172996', '16795...</td>\n",
       "      <td>{'Home': {'Squad': ['137990', '172996', '16795...</td>\n",
       "      <td>{'Home': {'Squad': ['137990', '172996', '16795...</td>\n",
       "      <td>{'Home': {'Squad': ['137990', '172996', '16795...</td>\n",
       "      <td>NaN</td>\n",
       "      <td>NaN</td>\n",
       "      <td>NaN</td>\n",
       "    </tr>\n",
       "    <tr>\n",
       "      <th>3</th>\n",
       "      <td>{'Home': {'Squad': ['107639', '161940', '45966...</td>\n",
       "      <td>{'Home': {'Squad': ['107639', '161940', '45966...</td>\n",
       "      <td>{'Home': {'Squad': ['107639', '161940', '45966...</td>\n",
       "      <td>{'Home': {'Squad': ['107639', '161940', '31664...</td>\n",
       "      <td>NaN</td>\n",
       "      <td>NaN</td>\n",
       "      <td>NaN</td>\n",
       "      <td>NaN</td>\n",
       "      <td>NaN</td>\n",
       "    </tr>\n",
       "  </tbody>\n",
       "</table>\n",
       "</div>"
      ],
      "text/plain": [
       "                                                   0  \\\n",
       "1  {'Home': {'Squad': ['141698', '137644', '14474...   \n",
       "2  {'Home': {'Squad': ['137990', '172996', '16795...   \n",
       "3  {'Home': {'Squad': ['107639', '161940', '45966...   \n",
       "\n",
       "                                                   1  \\\n",
       "1  {'Home': {'Squad': ['141698', '137644', '14474...   \n",
       "2  {'Home': {'Squad': ['137990', '172996', '16795...   \n",
       "3  {'Home': {'Squad': ['107639', '161940', '45966...   \n",
       "\n",
       "                                                   2  \\\n",
       "1  {'Home': {'Squad': ['141698', '137644', '14474...   \n",
       "2  {'Home': {'Squad': ['137990', '172996', '16795...   \n",
       "3  {'Home': {'Squad': ['107639', '161940', '45966...   \n",
       "\n",
       "                                                   3  \\\n",
       "1  {'Home': {'Squad': ['141698', '137644', '14474...   \n",
       "2  {'Home': {'Squad': ['137990', '172996', '16795...   \n",
       "3  {'Home': {'Squad': ['107639', '161940', '31664...   \n",
       "\n",
       "                                                   4  \\\n",
       "1  {'Home': {'Squad': ['141698', '137644', '14474...   \n",
       "2  {'Home': {'Squad': ['137990', '172996', '16795...   \n",
       "3                                                NaN   \n",
       "\n",
       "                                                   5    6    7    8  \n",
       "1  {'Home': {'Squad': ['141698', '137644', '14474...  NaN  NaN  NaN  \n",
       "2  {'Home': {'Squad': ['137990', '172996', '16795...  NaN  NaN  NaN  \n",
       "3                                                NaN  NaN  NaN  NaN  "
      ]
     },
     "execution_count": 28,
     "metadata": {},
     "output_type": "execute_result"
    }
   ],
   "source": [
    "import pandas as pd\n",
    "import os\n",
    "\n",
    "df = pd.read_json('../Data/Serie_A_2014_squads.json')\n",
    "\n",
    "df = df.T\n",
    "df.head(3)"
   ]
  },
  {
   "cell_type": "markdown",
   "metadata": {},
   "source": [
    "Vamos pegar as informações dos ID's dos jogadores com as informações dos Squads. Começaremos pelo campeonato da Série A de 2013 até 2024, e nossa intenção é definir um rating inicial de 1500 para cada jogador.\n",
    "\n",
    "Com isso, conseguiremos calcular um rating de uma partida e atualizar o rating dos jogadores após ela nesse dataframe com os ID's."
   ]
  },
  {
   "cell_type": "code",
   "execution_count": 5,
   "metadata": {},
   "outputs": [
    {
     "name": "stdout",
     "output_type": "stream",
     "text": [
      "Total de IDs únicos coletados: 15448\n"
     ]
    }
   ],
   "source": [
    "\n",
    "def collect_unique_ids(data_folder, file_names, years):\n",
    "    \"\"\"\n",
    "    Função para coletar IDs únicos de jogadores em arquivos JSON.\n",
    "\n",
    "    :param data_folder: Caminho para o diretório onde os arquivos JSON estão localizados.\n",
    "    :param file_names: Lista de nomes de arquivos base (ex: ['Serie_A', 'Serie_B', 'Copa_do_Brasil']).\n",
    "    :param years: Lista ou range de anos dos arquivos a serem processados.\n",
    "    :return: Lista de IDs únicos coletados de todos os arquivos.\n",
    "    \"\"\"\n",
    "\n",
    "    unique_ids = set()\n",
    "\n",
    "    def process_dataframe(df):\n",
    "\n",
    "        for column in df.columns:\n",
    "            for cell in df[column]:\n",
    "                if isinstance(cell, dict):  \n",
    "                    for key in ['Home', 'Away']:\n",
    "                        team_info = cell.get(key, {})\n",
    "                        # Adicionar os IDs do 'Squad'\n",
    "                        squad_ids = team_info.get('Squad', [])\n",
    "                        unique_ids.update(squad_ids)\n",
    "\n",
    "\n",
    "    for file_name in file_names:\n",
    "        for year in years:\n",
    "            file_path = os.path.join(data_folder, f'{file_name}_{year}_squads.json')\n",
    "            if os.path.exists(file_path):\n",
    "                df = pd.read_json(file_path)\n",
    "                process_dataframe(df)\n",
    "            else:\n",
    "                print(f'Arquivo não encontrado: {file_path}')\n",
    "\n",
    "\n",
    "    return list(unique_ids)\n",
    "\n",
    "data_folder = '../Data/'\n",
    "file_names = ['Serie_A', 'Serie_B', 'Serie_C', 'Serie_D', 'CdB']\n",
    "years = range(2013, 2025)\n",
    "\n",
    "unique_player_ids = collect_unique_ids(data_folder, file_names, years)\n",
    "\n",
    "print(f'Total de IDs únicos coletados: {len(unique_player_ids)}')"
   ]
  },
  {
   "cell_type": "markdown",
   "metadata": {},
   "source": [
    "Total de 15448 diferentes jogadores registrados!"
   ]
  },
  {
   "cell_type": "code",
   "execution_count": 33,
   "metadata": {},
   "outputs": [
    {
     "data": {
      "text/html": [
       "<div>\n",
       "<style scoped>\n",
       "    .dataframe tbody tr th:only-of-type {\n",
       "        vertical-align: middle;\n",
       "    }\n",
       "\n",
       "    .dataframe tbody tr th {\n",
       "        vertical-align: top;\n",
       "    }\n",
       "\n",
       "    .dataframe thead th {\n",
       "        text-align: right;\n",
       "    }\n",
       "</style>\n",
       "<table border=\"1\" class=\"dataframe\">\n",
       "  <thead>\n",
       "    <tr style=\"text-align: right;\">\n",
       "      <th></th>\n",
       "      <th>player</th>\n",
       "      <th>rating</th>\n",
       "    </tr>\n",
       "  </thead>\n",
       "  <tbody>\n",
       "    <tr>\n",
       "      <th>0</th>\n",
       "      <td>450033</td>\n",
       "      <td>1500</td>\n",
       "    </tr>\n",
       "    <tr>\n",
       "      <th>1</th>\n",
       "      <td>188241</td>\n",
       "      <td>1500</td>\n",
       "    </tr>\n",
       "    <tr>\n",
       "      <th>2</th>\n",
       "      <td>319850</td>\n",
       "      <td>1500</td>\n",
       "    </tr>\n",
       "    <tr>\n",
       "      <th>3</th>\n",
       "      <td>399284</td>\n",
       "      <td>1500</td>\n",
       "    </tr>\n",
       "    <tr>\n",
       "      <th>4</th>\n",
       "      <td>566895</td>\n",
       "      <td>1500</td>\n",
       "    </tr>\n",
       "  </tbody>\n",
       "</table>\n",
       "</div>"
      ],
      "text/plain": [
       "   player  rating\n",
       "0  450033    1500\n",
       "1  188241    1500\n",
       "2  319850    1500\n",
       "3  399284    1500\n",
       "4  566895    1500"
      ]
     },
     "execution_count": 33,
     "metadata": {},
     "output_type": "execute_result"
    }
   ],
   "source": [
    "df_players = pd.DataFrame(unique_player_ids, columns=['player'])\n",
    "\n",
    "# Adicionar a coluna 'rating' com valor inicial de 1500 para cada jogador\n",
    "df_players['rating'] = 1500\n",
    "\n",
    "# Mostrar o DataFrame criado\n",
    "df_players.head()"
   ]
  },
  {
   "cell_type": "code",
   "execution_count": 15,
   "metadata": {},
   "outputs": [
    {
     "data": {
      "text/plain": [
       "[['12Diego Diego Cavalieri T(g)P137990', 'Fluminense / RJ'],\n",
       " ['2Bruno Bruno Vieira do Nasc ... TP172996', 'Fluminense / RJ'],\n",
       " ['3Welington  ... Welington Pereira Ro ... TP167958', 'Fluminense / RJ'],\n",
       " ['6Carlinhos Carlos Andrade Souza TP173760', 'Fluminense / RJ'],\n",
       " ['7Jean Jean Raphael Vanderl ... TP173180', 'Fluminense / RJ'],\n",
       " ['8Rodrigo Ol ... Rodrigo Oliveira de  ... TP147224', 'Fluminense / RJ'],\n",
       " ['9Fred Frederico Chaves Guedes TP148994', 'Fluminense / RJ'],\n",
       " ['10Wagner Wagner Ferreira dos  ... TP154127', 'Fluminense / RJ'],\n",
       " ['11Conca Dario Leonardo Conca TP184395', 'Fluminense / RJ'],\n",
       " ['14Elivelton Elivelton Viana dos  ... TP317763', 'Fluminense / RJ'],\n",
       " ['23Rafael Sobis Rafael Augusto Sobis TP150549', 'Fluminense / RJ'],\n",
       " ['13Chiquinho Francisco Sousa dos  ... RP175503', 'Fluminense / RJ'],\n",
       " ['15Rafael Rafael Gimenes da Silva RP307753', 'Fluminense / RJ'],\n",
       " ['17Valencia Edwin Armando Valenc ... RP185839', 'Fluminense / RJ'],\n",
       " ['18Walter Walter Henrique da Silva RP179832', 'Fluminense / RJ'],\n",
       " ['22Felipe Felipe Garcia dos Pr ... RP172028', 'Fluminense / RJ'],\n",
       " ['25Wellington Wellington Nasciment ... RP179486', 'Fluminense / RJ'],\n",
       " ['29Diego Diego Santos Gama Camilo RP308149', 'Fluminense / RJ'],\n",
       " ['30Robert Robert Kenedy Nunes  ... RP315043', 'Fluminense / RJ'],\n",
       " ['34Wellington Wellington Carvalho  ... RP307674', 'Fluminense / RJ'],\n",
       " ['1Tiago Volpi Tiago Luis Volpi T(g)P291584', 'Figueirense / SC'],\n",
       " ['2Leandro Leandro da Silva TP178723', 'Figueirense / SC'],\n",
       " ['3Nirley Nirley da Silva Fonseca TP295587', 'Figueirense / SC'],\n",
       " ['4Thiago Thiago Heleno Henriq... TP171788', 'Figueirense / SC'],\n",
       " ['5Luan Luan Jose Niedzielski TP184931', 'Figueirense / SC'],\n",
       " ['6Marcos Marcos Pedroso TP358318', 'Figueirense / SC'],\n",
       " ['7Luiz Luiz Eduardo dos San... TP324030', 'Figueirense / SC'],\n",
       " ['9Lucio Lucielmo Palhano Soares TP325678', 'Figueirense / SC'],\n",
       " ['10Giovanii Giovanni Augusto Oli... TP292205', 'Figueirense / SC'],\n",
       " ['11Everton Sa ... Everton Leandro dos ... TP165064', 'Figueirense / SC'],\n",
       " ['20Marcos Ass ... Marcos dos Santos As... TP124316', 'Figueirense / SC'],\n",
       " ['8Rivaldo Rivaldo Barbosa de Souza RP166725', 'Figueirense / SC'],\n",
       " ['12Neneca Anderson Soares da Silva RP141092', 'Figueirense / SC'],\n",
       " ['13Marcos Rob ... Marcos Roberto da Si... RP137982', 'Figueirense / SC'],\n",
       " ['14Nem Rogisvaldo Joao dos ... RP180884', 'Figueirense / SC'],\n",
       " ['15Paulo Paulo Roberto da Silva RP175560', 'Figueirense / SC'],\n",
       " ['16Leonardo Leonardo Santos Lisboa RP307085', 'Figueirense / SC'],\n",
       " ['17Marquinhos Marcos Antonio Miran... RP161039', 'Figueirense / SC'],\n",
       " ['18Vitor Junior Vitor Silva Assis de... RP161610', 'Figueirense / SC'],\n",
       " ['19Everaldo Everaldo Stum RP306852', 'Figueirense / SC']]"
      ]
     },
     "execution_count": 15,
     "metadata": {},
     "output_type": "execute_result"
    }
   ],
   "source": [
    "\n",
    "df_ = pd.read_json('../Data/Serie_A_2014_games.json')\n",
    "df_ = df_.T\n",
    "df_.iloc[1,3]"
   ]
  },
  {
   "cell_type": "code",
   "execution_count": 37,
   "metadata": {},
   "outputs": [
    {
     "data": {
      "text/plain": [
       "40"
      ]
     },
     "execution_count": 37,
     "metadata": {},
     "output_type": "execute_result"
    }
   ],
   "source": [
    "# Função para extrair ID do jogador\n",
    "def extract_id(player_string):\n",
    "    match = re.search(r'T\\(g\\)?P(\\d+)|RP(\\d+)|TP(\\d+)', player_string, re.IGNORECASE)\n",
    "    if match:\n",
    "        return next((m for m in match.groups() if m), None)\n",
    "    return None\n",
    "\n",
    "# Lista para armazenar os IDs dos jogadores\n",
    "player_ids = []\n",
    "\n",
    "# Acessar a linha e coluna específica contendo os dados dos jogadores\n",
    "player_data = df_.iloc[1, 3]  # Ajuste os índices conforme necessário\n",
    "\n",
    "# Iterar sobre os dados dos jogadores para extrair os IDs\n",
    "for player_info in player_data:\n",
    "    player_string = player_info[0]\n",
    "    player_id = extract_id(player_string)\n",
    "    if player_id:\n",
    "        player_ids.append(player_id)\n",
    "\n",
    "len(player_ids)"
   ]
  }
 ],
 "metadata": {
  "kernelspec": {
   "display_name": "Python 3",
   "language": "python",
   "name": "python3"
  },
  "language_info": {
   "codemirror_mode": {
    "name": "ipython",
    "version": 3
   },
   "file_extension": ".py",
   "mimetype": "text/x-python",
   "name": "python",
   "nbconvert_exporter": "python",
   "pygments_lexer": "ipython3",
   "version": "3.9.13"
  }
 },
 "nbformat": 4,
 "nbformat_minor": 2
}
